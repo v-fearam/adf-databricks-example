{
 "cells": [
  {
   "cell_type": "markdown",
   "metadata": {
    "application/vnd.databricks.v1+cell": {
     "cellMetadata": {
      "byteLimit": 2048000,
      "rowLimit": 10000
     },
     "inputWidgets": {},
     "nuid": "2fe17dd5-be05-44c8-99ee-b4295d4ee834",
     "showTitle": false,
     "title": ""
    }
   },
   "source": [
    "### Purpose \n",
    "The goal is to populate the start model for reporting\n",
    "1. Populate dimentions tables ( dim_names[id,name,sex], dim_years[id, year], dim_locations[id,county])\n",
    "2. Populate Fact table (fact_babiesnames[id, #count, id_dim_names, id_dim_years, id_dim_locations])\n",
    "3. Execute a example query, only for test (not do on production)"
   ]
  },
  {
   "cell_type": "code",
   "execution_count": 0,
   "metadata": {
    "application/vnd.databricks.v1+cell": {
     "cellMetadata": {
      "byteLimit": 2048000,
      "rowLimit": 10000
     },
     "inputWidgets": {},
     "nuid": "4873ce5c-5074-413d-b0e0-59767af1fe68",
     "showTitle": false,
     "title": ""
    }
   },
   "outputs": [],
   "source": [
    "# Configure my account key and account name so Databricks can access the Data Lake\n",
    "accountName = dbutils.secrets.get(\"dataLakeScope\",\"accountName\")\n",
    "accountKey = dbutils.secrets.get(\"dataLakeScope\",\"accountKey\")\n",
    "sparkProperty = f'fs.azure.account.key.{accountName}.dfs.core.windows.net'\n",
    "spark.conf.set(sparkProperty,accountKey)"
   ]
  },
  {
   "cell_type": "code",
   "execution_count": 0,
   "metadata": {
    "application/vnd.databricks.v1+cell": {
     "cellMetadata": {},
     "inputWidgets": {},
     "nuid": "78be0d25-78a1-404a-a0a4-6e51b4a6eb54",
     "showTitle": false,
     "title": ""
    }
   },
   "outputs": [],
   "source": [
    "# Define the location of my files\n",
    "goldDimNames = f'abfss://gold@{accountName}.dfs.core.windows.net/dim_names'\n",
    "goldDimYears = f'abfss://gold@{accountName}.dfs.core.windows.net/dim_years'\n",
    "goldDimLocations = f'abfss://gold@{accountName}.dfs.core.windows.net/dim_locations'\n",
    "goldFactBabiesNames = f'abfss://gold@{accountName}.dfs.core.windows.net/fact_babiesnames'\n",
    "silverSource = f'abfss://silver@{accountName}.dfs.core.windows.net/nybabynames'\n",
    "\n",
    "\n",
    "# Table name\n",
    "silver_table_name =  \"silver.NewYorkBabyNames\"\n",
    "gold_dim_names_table_name =  \"gold.reference_DimNames\"\n",
    "gold_dim_years_table_name =  \"gold.reference_DimYears\"\n",
    "gold_dim_locations_table_name =  \"gold.reference_DimLocations\"\n",
    "gold_fact_babiesnames_table_name =  \"gold.FactBabiesNames\""
   ]
  }
 ],
 "metadata": {
  "application/vnd.databricks.v1+notebook": {
   "dashboards": [],
   "environmentMetadata": null,
   "language": "python",
   "notebookMetadata": {
    "pythonIndentUnit": 4
   },
   "notebookName": "silverToGold",
   "widgets": {}
  }
 },
 "nbformat": 4,
 "nbformat_minor": 0
}
