{
 "cells": [
  {
   "cell_type": "code",
   "execution_count": null,
   "metadata": {
    "application/vnd.databricks.v1+cell": {
     "cellMetadata": {},
     "inputWidgets": {},
     "nuid": "39623ee2-a9fa-4926-be7f-5bc2ef634586",
     "showTitle": false,
     "title": ""
    }
   },
   "outputs": [],
   "source": [
    "# Creating widgets for leveraging parameters, and printing the parameters\n",
    "\n",
    "dbutils.widgets.text(\"input\", \"\",\"\")\n",
    "y = dbutils.widgets.get(\"input\")\n",
    "print (\"Param -\\'input':\")\n",
    "print (y)\n",
    "#Fred"
   ]
  }
 ],
 "metadata": {
  "application/vnd.databricks.v1+notebook": {
   "dashboards": [],
   "language": "python",
   "notebookMetadata": {
    "pythonIndentUnit": 4
   },
   "notebookName": "mynotebook",
   "widgets": {}
  },
  "language_info": {
   "name": "python"
  }
 },
 "nbformat": 4,
 "nbformat_minor": 0
}
